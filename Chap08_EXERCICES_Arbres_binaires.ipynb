{
  "nbformat": 4,
  "nbformat_minor": 0,
  "metadata": {
    "colab": {
      "name": "Chap08_EXERCICES_Arbres_binaires.ipynb",
      "provenance": [],
      "collapsed_sections": [
        "sQG4TQcAslQT"
      ],
      "include_colab_link": true
    },
    "kernelspec": {
      "name": "python3",
      "display_name": "Python 3"
    }
  },
  "cells": [
    {
      "cell_type": "markdown",
      "metadata": {
        "id": "view-in-github",
        "colab_type": "text"
      },
      "source": [
        "<a href=\"https://colab.research.google.com/github/Valdorion/NSI-public/blob/master/Chap08_EXERCICES_Arbres_binaires.ipynb\" target=\"_parent\"><img src=\"https://colab.research.google.com/assets/colab-badge.svg\" alt=\"Open In Colab\"/></a>"
      ]
    },
    {
      "cell_type": "markdown",
      "metadata": {
        "id": "Vb2rlvmZoVyv"
      },
      "source": [
        "## Exercice 1"
      ]
    },
    {
      "cell_type": "markdown",
      "metadata": {
        "id": "NtPW-zvuoX9Q"
      },
      "source": [
        "Ecrire une fonction `affiche(a)` qui imprime un arbre binaire a sous la forme suivante :\n",
        "* pour un arbre vide, on n'imprime rien\n",
        "* pour un noeud, on imprime :\n",
        "  * un parenthèse ouvrante `(`\n",
        "  * le sous-arbre gauche (récursivement)\n",
        "  * la valeur du noeud\n",
        "  * le sous-arbre droit du noeud\n",
        "  * une parenthèse fermante `)`\n",
        "\n",
        "Par **exemple**, un arbre binaire de taille 4 tel que :\n",
        "* la racine R possède deux fils : \n",
        "  * D (à droite)\n",
        "  * G (à gauche)   qui possède lui même \n",
        "    * un fils droit F \n",
        "\n",
        "sera affiché : \n",
        "`((G(F))R(D))`"
      ]
    },
    {
      "cell_type": "code",
      "metadata": {
        "id": "kfuwruR_qWqe"
      },
      "source": [
        "class Noeud:\n",
        "    def __init__(self, g, v, d):\n",
        "        self.gauche = g\n",
        "        self.valeur = v        \n",
        "        self.droit  = d\n",
        "\n",
        "    "
      ],
      "execution_count": 6,
      "outputs": []
    },
    {
      "cell_type": "code",
      "metadata": {
        "id": "aKc8GMn1HHVJ"
      },
      "source": [
        "def affiche(a):\n",
        "    if a is None:\n",
        "        return ''\n",
        "    else:\n",
        "        if a.gauche is not None:\n",
        "            return str('(' + affiche(a.gauche) + str(a.valeur) + affiche(a.droit) + ')')\n",
        "        elif a.droit is not None:\n",
        "            return str('(' + str(affiche(a.gauche)) + str(a.valeur) + affiche(a.droit) + ')')\n",
        "        else:\n",
        "            return str('(' + a.valeur + ')')\n",
        "\n",
        "arbre = Noeud(Noeud(None,'G',Noeud(None,'F',None)), 'R', Noeud(None,'D',None))"
      ],
      "execution_count": null,
      "outputs": []
    },
    {
      "cell_type": "markdown",
      "metadata": {
        "id": "zXpm3c_VBLco"
      },
      "source": [
        "Réponse :"
      ]
    },
    {
      "cell_type": "code",
      "metadata": {
        "id": "72XOUcViRM6m"
      },
      "source": [
        "def affiche(a):\n",
        "    if a is None:\n",
        "        return ''\n",
        "    else:\n",
        "        return '(' + affiche(a.gauche) + str(a.valeur) + affiche(a.droit) + ')'\n",
        "\n",
        "arbre = Noeud(None,1,Noeud(Noeud(None,2,None),3,None))"
      ],
      "execution_count": 14,
      "outputs": []
    },
    {
      "cell_type": "code",
      "metadata": {
        "id": "Zm3YOxvBLOfM",
        "colab": {
          "base_uri": "https://localhost:8080/"
        },
        "outputId": "d500da36-7c08-4d9e-de66-31a886a53c72"
      },
      "source": [
        "print(affiche(arbre))\n",
        "print(id(arbre))"
      ],
      "execution_count": 17,
      "outputs": [
        {
          "output_type": "stream",
          "text": [
            "(1((2)3))\n",
            "139849935884184\n"
          ],
          "name": "stdout"
        }
      ]
    },
    {
      "cell_type": "markdown",
      "metadata": {
        "id": "xY8ucGJFq36r"
      },
      "source": [
        "# Exercice 2\n",
        "\n",
        "1. Dessiner l'arbre binaire dont l'affichage avec la fonction de l'exercice précédent est : `(1((2)3))`\n",
        "2. Vérifier votre réponse en saisissant cet arbre dans une variable, et en l'affichant avec la fonction de l'exercice 1. \n"
      ]
    },
    {
      "cell_type": "markdown",
      "metadata": {
        "id": "7CpRegOesHJX"
      },
      "source": [
        "# Exercice 3"
      ]
    },
    {
      "cell_type": "markdown",
      "metadata": {
        "id": "kdkVjgDysJQD"
      },
      "source": [
        "Ecrire une fonction identiques(a1, a2) qui permet de tester si les deux arbres a1 et a2 sont identiques. "
      ]
    },
    {
      "cell_type": "markdown",
      "metadata": {
        "id": "Ugj8PLxxHspT"
      },
      "source": [
        "Réponse:"
      ]
    },
    {
      "cell_type": "code",
      "metadata": {
        "id": "BrY_BcawURFq"
      },
      "source": [
        "def identiques(a1,a2):\n",
        "    if a1 is None and a2 is None:\n",
        "        return True\n",
        "    elif a1 is None or a2 is None:\n",
        "        return False\n",
        "    if a1.valeur != a2.valeur:\n",
        "        return False\n",
        "    if a1.valeur == a2.valeur:\n",
        "        return identiques(a1.droit, a2.droit) and identiques(a1.gauche, a2.gauche)"
      ],
      "execution_count": 74,
      "outputs": []
    },
    {
      "cell_type": "code",
      "metadata": {
        "id": "keDsHvX0VMfU"
      },
      "source": [
        "arbre1 = Noeud(None,1,Noeud(Noeud(None,2,None),3,None))\n",
        "arbre2 = Noeud(Noeud(None,'G',Noeud(None,'F',None)), 'R', Noeud(None,'D',None))\n",
        "arbre3 = Noeud(Noeud(None,2,None),1,Noeud(Noeud(None,2,None),3,None))"
      ],
      "execution_count": 70,
      "outputs": []
    },
    {
      "cell_type": "code",
      "metadata": {
        "id": "FSA59tx7VlUa",
        "colab": {
          "base_uri": "https://localhost:8080/"
        },
        "outputId": "5b2fab4d-2b66-4bb3-d97c-e57322685995"
      },
      "source": [
        "identiques(arbre1,arbre2)"
      ],
      "execution_count": 75,
      "outputs": [
        {
          "output_type": "execute_result",
          "data": {
            "text/plain": [
              "False"
            ]
          },
          "metadata": {
            "tags": []
          },
          "execution_count": 75
        }
      ]
    },
    {
      "cell_type": "code",
      "metadata": {
        "id": "pOuAgE-gW3V8",
        "colab": {
          "base_uri": "https://localhost:8080/"
        },
        "outputId": "577b64a7-6378-4e26-e2bb-eaaa35bcf019"
      },
      "source": [
        "identiques(arbre1,arbre1)"
      ],
      "execution_count": 77,
      "outputs": [
        {
          "output_type": "execute_result",
          "data": {
            "text/plain": [
              "True"
            ]
          },
          "metadata": {
            "tags": []
          },
          "execution_count": 77
        }
      ]
    },
    {
      "cell_type": "markdown",
      "metadata": {
        "id": "sQG4TQcAslQT"
      },
      "source": [
        "# Exercice 4"
      ]
    },
    {
      "cell_type": "markdown",
      "metadata": {
        "id": "qjdAoJKasm-F"
      },
      "source": [
        "Ecrire une fonction `miroir(a)` qui renvoie un nouvel arbre binaire, symétrique de `a` au sens où les sous-arbres gauche et droit de `a` sont inversés dans `miroir(a)`."
      ]
    },
    {
      "cell_type": "markdown",
      "metadata": {
        "id": "xoqHgzGHHmG7"
      },
      "source": [
        "Réponse:"
      ]
    },
    {
      "cell_type": "code",
      "metadata": {
        "id": "ujoVCqPBHkyc"
      },
      "source": [
        "def mirioir(a):\n",
        "    "
      ],
      "execution_count": null,
      "outputs": []
    },
    {
      "cell_type": "markdown",
      "metadata": {
        "id": "5rShG3k3tNRn"
      },
      "source": [
        "#### pour tester le code, on pourra utiliser l'affichage suivant :"
      ]
    },
    {
      "cell_type": "code",
      "metadata": {
        "id": "KWIFYAa1tLsq"
      },
      "source": [
        "def parcours_infixe_indent(arbre,n=0):\n",
        "    '''affiche le contenu d'un arbre :\n",
        "    - d'abord le sous-arbre droit, \n",
        "    - puis la racine, \n",
        "    - puis le sous-arbre gauche'''\n",
        "    if arbre is not None:\n",
        "        parcours_infixe_indent(arbre.droit,n+1)\n",
        "        print('    '*n+'-', arbre.valeur)\n",
        "        parcours_infixe_indent(arbre.gauche,n+1)"
      ],
      "execution_count": null,
      "outputs": []
    }
  ]
}