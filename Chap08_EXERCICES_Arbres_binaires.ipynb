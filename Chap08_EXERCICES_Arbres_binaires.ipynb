{
  "nbformat": 4,
  "nbformat_minor": 0,
  "metadata": {
    "colab": {
      "name": "Chap08_EXERCICES_Arbres_binaires.ipynb",
      "provenance": [],
      "collapsed_sections": [
        "sQG4TQcAslQT"
      ]
    },
    "kernelspec": {
      "name": "python3",
      "display_name": "Python 3"
    }
  },
  "cells": [
    {
      "cell_type": "markdown",
      "metadata": {
        "id": "Vb2rlvmZoVyv"
      },
      "source": [
        "## Exercice 1"
      ]
    },
    {
      "cell_type": "markdown",
      "metadata": {
        "id": "NtPW-zvuoX9Q"
      },
      "source": [
        "Ecrire une fonction `affiche(a)` qui imprime un arbre binaire a sous la forme suivante :\n",
        "* pour un arbre vide, on n'imprime rien\n",
        "* pour un noeud, on imprime :\n",
        "  * un parenthèse ouvrante `(`\n",
        "  * le sous-arbre gauche (récursivement)\n",
        "  * la valeur du noeud\n",
        "  * le sous-arbre droit du noeud\n",
        "  * une parenthèse fermante `)`\n",
        "\n",
        "Par **exemple**, un arbre binaire de taille 4 tel que :\n",
        "* la racine R possède deux fils : \n",
        "  * D (à droite)\n",
        "  * G (à gauche)   qui possède lui même \n",
        "    * un fils droit F \n",
        "\n",
        "sera affiché : \n",
        "`((G(F))R(D))`"
      ]
    },
    {
      "cell_type": "code",
      "metadata": {
        "id": "kfuwruR_qWqe"
      },
      "source": [
        "class Noeud:\n",
        "    def __init__(self, g, v, d):\n",
        "        self.gauche = g\n",
        "        self.valeur = v        \n",
        "        self.droit  = d\n",
        "\n",
        "    "
      ],
      "execution_count": 3,
      "outputs": []
    },
    {
      "cell_type": "code",
      "metadata": {
        "id": "aKc8GMn1HHVJ"
      },
      "source": [
        "def affiche(a):\n",
        "    if a is None:\n",
        "        return ''\n",
        "    else:\n",
        "        if a.gauche is not None:\n",
        "            return str('(' + affiche(a.gauche) + str(a.valeur) + affiche(a.droit) + ')')\n",
        "        elif a.droit is not None:\n",
        "            return str('(' + str(affiche(a.gauche)) + str(a.valeur) + affiche(a.droit) + ')')\n",
        "        else:\n",
        "            return str('(' + a.valeur + ')')\n",
        "\n",
        "arbre = Noeud(Noeud(None,'G',Noeud(None,'F',None)), 'R', Noeud(None,'D',None))"
      ],
      "execution_count": 32,
      "outputs": []
    },
    {
      "cell_type": "code",
      "metadata": {
        "id": "72XOUcViRM6m"
      },
      "source": [
        "def affiche(a):\n",
        "    if a is None:\n",
        "        return ''\n",
        "    else:\n",
        "        return '(' + affiche(a.gauche) + str(a.valeur) + affiche(a.droit) + ')'\n",
        "\n",
        "arbre = Noeud(None,1,Noeud(Noeud(None,2,None),3,None))"
      ],
      "execution_count": 38,
      "outputs": []
    },
    {
      "cell_type": "code",
      "metadata": {
        "id": "Zm3YOxvBLOfM",
        "outputId": "3d2a8c74-73b8-4a8c-e1c1-00de724d4582",
        "colab": {
          "base_uri": "https://localhost:8080/",
          "height": 35
        }
      },
      "source": [
        "affiche(arbre)"
      ],
      "execution_count": 39,
      "outputs": [
        {
          "output_type": "execute_result",
          "data": {
            "application/vnd.google.colaboratory.intrinsic+json": {
              "type": "string"
            },
            "text/plain": [
              "'(1((2)3))'"
            ]
          },
          "metadata": {
            "tags": []
          },
          "execution_count": 39
        }
      ]
    },
    {
      "cell_type": "markdown",
      "metadata": {
        "id": "xY8ucGJFq36r"
      },
      "source": [
        "# Exercice 2\n",
        "\n",
        "1. Dessiner l'arbre binaire dont l'affichage avec la fonction de l'exercice précédent est : `(1((2)3))`\n",
        "2. Vérifier votre réponse en saisissant cet arbre dans une variable, et en l'affichant avec la fonction de l'exercice 1. \n"
      ]
    },
    {
      "cell_type": "markdown",
      "metadata": {
        "id": "7CpRegOesHJX"
      },
      "source": [
        "# Exercice 3"
      ]
    },
    {
      "cell_type": "markdown",
      "metadata": {
        "id": "kdkVjgDysJQD"
      },
      "source": [
        "Ecrire une fonction identiques(a1, a2) qui permet de tester si les deux arbres a1 et a2 sont identiques. "
      ]
    },
    {
      "cell_type": "code",
      "metadata": {
        "id": "BrY_BcawURFq"
      },
      "source": [
        "def identiques(a1,a2):\n",
        "    if a1 != a2:\n",
        "        return False\n",
        "    else:\n",
        "        return True, identiques(a1.gauche,a2.gauche) + identiques(a1.droit,a2.droit)"
      ],
      "execution_count": 58,
      "outputs": []
    },
    {
      "cell_type": "code",
      "metadata": {
        "id": "keDsHvX0VMfU"
      },
      "source": [
        "arbre1 = Noeud(None,1,Noeud(Noeud(None,2,None),3,None))\n",
        "arbre2 = Noeud(Noeud(None,'G',Noeud(None,'F',None)), 'R', Noeud(None,'D',None))\n",
        "arbre3 = Noeud(None,1,Noeud(Noeud(None,2,None),3,None))"
      ],
      "execution_count": 56,
      "outputs": []
    },
    {
      "cell_type": "code",
      "metadata": {
        "id": "FSA59tx7VlUa",
        "outputId": "f0181b1e-23e6-443a-aba1-2a1e183d9974",
        "colab": {
          "base_uri": "https://localhost:8080/"
        }
      },
      "source": [
        "identiques(arbre1,arbre2)"
      ],
      "execution_count": 45,
      "outputs": [
        {
          "output_type": "execute_result",
          "data": {
            "text/plain": [
              "False"
            ]
          },
          "metadata": {
            "tags": []
          },
          "execution_count": 45
        }
      ]
    },
    {
      "cell_type": "code",
      "metadata": {
        "id": "pOuAgE-gW3V8",
        "outputId": "cd96d6de-3628-426b-b28d-2484b9bae5f5",
        "colab": {
          "base_uri": "https://localhost:8080/"
        }
      },
      "source": [
        "identiques(arbre1,arbre3)"
      ],
      "execution_count": 60,
      "outputs": [
        {
          "output_type": "execute_result",
          "data": {
            "text/plain": [
              "False"
            ]
          },
          "metadata": {
            "tags": []
          },
          "execution_count": 60
        }
      ]
    },
    {
      "cell_type": "markdown",
      "metadata": {
        "id": "sQG4TQcAslQT"
      },
      "source": [
        "# Exercice 4"
      ]
    },
    {
      "cell_type": "markdown",
      "metadata": {
        "id": "qjdAoJKasm-F"
      },
      "source": [
        "Ecrire une fonction `miroir(a)` qui renvoie un nouvel arbre binaire, symétrique de `a` au sens où les sous-arbres gauche et droit de `a` sont inversés dans `miroir(a)`."
      ]
    },
    {
      "cell_type": "markdown",
      "metadata": {
        "id": "5rShG3k3tNRn"
      },
      "source": [
        "#### pour tester le code, on pourra utiliser l'affichage suivant :"
      ]
    },
    {
      "cell_type": "code",
      "metadata": {
        "id": "KWIFYAa1tLsq"
      },
      "source": [
        "def parcours_infixe_indent(arbre,n=0):\n",
        "    '''affiche le contenu d'un arbre :\n",
        "    - d'abord le sous-arbre droit, \n",
        "    - puis la racine, \n",
        "    - puis le sous-arbre gauche'''\n",
        "    if arbre is not None:\n",
        "        parcours_infixe_indent(arbre.droit,n+1)\n",
        "        print('    '*n+'-', arbre.valeur)\n",
        "        parcours_infixe_indent(arbre.gauche,n+1)"
      ],
      "execution_count": null,
      "outputs": []
    }
  ]
}