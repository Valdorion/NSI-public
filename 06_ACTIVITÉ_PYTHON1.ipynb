{
  "nbformat": 4,
  "nbformat_minor": 0,
  "metadata": {
    "colab": {
      "name": "06-ACTIVITÉ-PYTHON1.ipynb",
      "provenance": [],
      "collapsed_sections": [],
      "include_colab_link": true
    },
    "kernelspec": {
      "name": "python3",
      "display_name": "Python 3"
    }
  },
  "cells": [
    {
      "cell_type": "markdown",
      "metadata": {
        "id": "view-in-github",
        "colab_type": "text"
      },
      "source": [
        "<a href=\"https://colab.research.google.com/github/Valdorion/NSI-public/blob/master/06_ACTIVIT%C3%89_PYTHON1.ipynb\" target=\"_parent\"><img src=\"https://colab.research.google.com/assets/colab-badge.svg\" alt=\"Open In Colab\"/></a>"
      ]
    },
    {
      "cell_type": "markdown",
      "metadata": {
        "id": "k_3z6KZUZodD"
      },
      "source": [
        "# Activité 1\n",
        "\n",
        "a) Représenter sur feuille l'état de la mémoire après exécution du code suivant : "
      ]
    },
    {
      "cell_type": "code",
      "metadata": {
        "id": "1jeH1uQBYU72"
      },
      "source": [
        "class Maillon:\n",
        "    def __init__(self, val, suiv=None):\n",
        "        self.valeur = val\n",
        "        self.suivant = suiv\n",
        "\n",
        "m1 = Maillon(1)\n",
        "m2 = Maillon(5,m1)\n",
        "m3 = Maillon(12,m2)"
      ],
      "execution_count": 2,
      "outputs": []
    },
    {
      "cell_type": "code",
      "metadata": {
        "id": "Wqh0hfi-58cC",
        "outputId": "9ddd206d-5f8e-44fc-a11e-7439284fd1ed",
        "colab": {
          "base_uri": "https://localhost:8080/"
        }
      },
      "source": [
        "print(m3.suivant)"
      ],
      "execution_count": 7,
      "outputs": [
        {
          "output_type": "stream",
          "text": [
            "<__main__.Maillon object at 0x7fd0923dc048>\n"
          ],
          "name": "stdout"
        }
      ]
    },
    {
      "cell_type": "markdown",
      "metadata": {
        "id": "SlhcdBHmZGwu"
      },
      "source": [
        "Vérifier en visualisant le résultat sur [PythonTutor](http://www.pythontutor.com/visualize.html#code=class%20Maillon%3A%0A%20%20%20%20def%20__init__%28self,%20val,%20suiv%3DNone%29%3A%0A%20%20%20%20%20%20%20%20self.valeur%20%3D%20val%0A%20%20%20%20%20%20%20%20self.suivant%20%3D%20suiv%0A%0Am1%20%3D%20Maillon%281%29%0Am2%20%3D%20Maillon%285,m1%29%0Am3%20%3D%20Maillon%2812,m2%29&cumulative=false&curInstr=16&heapPrimitives=nevernest&mode=display&origin=opt-frontend.js&py=3&rawInputLstJSON=%5B%5D&textReferences=false)"
      ]
    },
    {
      "cell_type": "markdown",
      "metadata": {
        "id": "GJaDA6oYaHvA"
      },
      "source": [
        "b) déterminer ce qu'affichera le code suivant... puis tester en exécutant la cellule"
      ]
    },
    {
      "cell_type": "code",
      "metadata": {
        "id": "6pVjRKZeaQdS",
        "outputId": "71d3817d-91d2-4703-9874-eb26e23eba88",
        "colab": {
          "base_uri": "https://localhost:8080/"
        }
      },
      "source": [
        "def affiche(m):\n",
        "    print (m.valeur)\n",
        "    if m.suivant != None:\n",
        "        affiche(m.suivant)\n",
        "\n",
        "affiche(m3)"
      ],
      "execution_count": 6,
      "outputs": [
        {
          "output_type": "stream",
          "text": [
            "12\n",
            "5\n",
            "1\n"
          ],
          "name": "stdout"
        }
      ]
    },
    {
      "cell_type": "markdown",
      "metadata": {
        "id": "2dTiFK7Ya2WB"
      },
      "source": [
        "c) déterminer ce qu'affichera le code suivant... puis tester en exécutant la cellule"
      ]
    },
    {
      "cell_type": "code",
      "metadata": {
        "id": "90oIwTaza8bs",
        "outputId": "6dd9ff35-e231-4a74-90ac-a2b928b9c042",
        "colab": {
          "base_uri": "https://localhost:8080/"
        }
      },
      "source": [
        "m0 = Maillon(1, Maillon(2, Maillon(3)))\n",
        "\n",
        "affiche(m0)"
      ],
      "execution_count": 9,
      "outputs": [
        {
          "output_type": "stream",
          "text": [
            "1\n",
            "2\n",
            "3\n"
          ],
          "name": "stdout"
        }
      ]
    },
    {
      "cell_type": "code",
      "metadata": {
        "id": "pibF1CKW6Pm8"
      },
      "source": [
        "1\n",
        "2\n",
        "3"
      ],
      "execution_count": null,
      "outputs": []
    },
    {
      "cell_type": "markdown",
      "metadata": {
        "id": "uoFpIJWIkmlK"
      },
      "source": [
        "Vérifier votre raisonnement avec [PythonTutor](http://www.pythontutor.com/visualize.html#code=class%20Maillon%3A%0A%20%20%20%20def%20__init__%28self,%20val,%20suiv%3DNone%29%3A%0A%20%20%20%20%20%20%20%20self.valeur%20%3D%20val%0A%20%20%20%20%20%20%20%20self.suivant%20%3D%20suiv%0A%0Adef%20affiche%28m%29%3A%0A%20%20%20%20print%20%28m.valeur%29%0A%20%20%20%20if%20m.suivant%20is%20not%20None%3A%0A%20%20%20%20%20%20%20%20affiche%28m.suivant%29%0A%20%20%20%20%20%20%20%20%0Am0%20%3D%20Maillon%281,%20Maillon%282,%20Maillon%283%29%29%29%0A%0Aaffiche%28m0%29&cumulative=false&curInstr=15&heapPrimitives=nevernest&mode=display&origin=opt-frontend.js&py=3&rawInputLstJSON=%5B%5D&textReferences=false)"
      ]
    },
    {
      "cell_type": "markdown",
      "metadata": {
        "id": "Eb53v-mQb75x"
      },
      "source": [
        "## Exercice 1\n",
        "\n",
        "a) Compléter le code suivant, de sorte que la **fonction** `affiche` devienne une **méthode** de la classe `Maillon`"
      ]
    },
    {
      "cell_type": "code",
      "metadata": {
        "id": "MxAkvsswcJJN"
      },
      "source": [
        "class Maillon:\n",
        "    def __init__(self, val, suiv=None):\n",
        "        self.valeur = val\n",
        "        self.suivant = suiv\n",
        "\n",
        "    def __str__(self):  #DÉFINITION À COMPLÉTER !\n",
        "        if self.suivant != None:\n",
        "            return str(self.valeur)+' '+print(self.suivant)\n",
        "        else:\n",
        "            return str('')\n",
        "\n",
        "m1 = Maillon(1)\n",
        "m2 = Maillon(5,m1)\n",
        "m3 = Maillon(12,m2)"
      ],
      "execution_count": 24,
      "outputs": []
    },
    {
      "cell_type": "code",
      "metadata": {
        "id": "Pj2doujO9n_W",
        "outputId": "748da665-6928-499b-ede4-539b72663d0f",
        "colab": {
          "base_uri": "https://localhost:8080/",
          "height": 323
        }
      },
      "source": [
        "print(m3)"
      ],
      "execution_count": 25,
      "outputs": [
        {
          "output_type": "stream",
          "text": [
            "\n"
          ],
          "name": "stdout"
        },
        {
          "output_type": "error",
          "ename": "TypeError",
          "evalue": "ignored",
          "traceback": [
            "\u001b[0;31m---------------------------------------------------------------------------\u001b[0m",
            "\u001b[0;31mTypeError\u001b[0m                                 Traceback (most recent call last)",
            "\u001b[0;32m<ipython-input-25-5baf7442bb95>\u001b[0m in \u001b[0;36m<module>\u001b[0;34m()\u001b[0m\n\u001b[0;32m----> 1\u001b[0;31m \u001b[0mprint\u001b[0m\u001b[0;34m(\u001b[0m\u001b[0mm3\u001b[0m\u001b[0;34m)\u001b[0m\u001b[0;34m\u001b[0m\u001b[0;34m\u001b[0m\u001b[0m\n\u001b[0m",
            "\u001b[0;32m<ipython-input-24-95a367a3e576>\u001b[0m in \u001b[0;36m__str__\u001b[0;34m(self)\u001b[0m\n\u001b[1;32m      6\u001b[0m     \u001b[0;32mdef\u001b[0m \u001b[0m__str__\u001b[0m\u001b[0;34m(\u001b[0m\u001b[0mself\u001b[0m\u001b[0;34m)\u001b[0m\u001b[0;34m:\u001b[0m  \u001b[0;31m#DÉFINITION À COMPLÉTER !\u001b[0m\u001b[0;34m\u001b[0m\u001b[0;34m\u001b[0m\u001b[0m\n\u001b[1;32m      7\u001b[0m         \u001b[0;32mif\u001b[0m \u001b[0mself\u001b[0m\u001b[0;34m.\u001b[0m\u001b[0msuivant\u001b[0m \u001b[0;34m!=\u001b[0m \u001b[0;32mNone\u001b[0m\u001b[0;34m:\u001b[0m\u001b[0;34m\u001b[0m\u001b[0;34m\u001b[0m\u001b[0m\n\u001b[0;32m----> 8\u001b[0;31m             \u001b[0;32mreturn\u001b[0m \u001b[0mstr\u001b[0m\u001b[0;34m(\u001b[0m\u001b[0mself\u001b[0m\u001b[0;34m.\u001b[0m\u001b[0mvaleur\u001b[0m\u001b[0;34m)\u001b[0m\u001b[0;34m+\u001b[0m\u001b[0;34m' '\u001b[0m\u001b[0;34m+\u001b[0m\u001b[0mprint\u001b[0m\u001b[0;34m(\u001b[0m\u001b[0mself\u001b[0m\u001b[0;34m.\u001b[0m\u001b[0msuivant\u001b[0m\u001b[0;34m)\u001b[0m\u001b[0;34m\u001b[0m\u001b[0;34m\u001b[0m\u001b[0m\n\u001b[0m\u001b[1;32m      9\u001b[0m         \u001b[0;32melse\u001b[0m\u001b[0;34m:\u001b[0m\u001b[0;34m\u001b[0m\u001b[0;34m\u001b[0m\u001b[0m\n\u001b[1;32m     10\u001b[0m             \u001b[0;32mreturn\u001b[0m \u001b[0mstr\u001b[0m\u001b[0;34m(\u001b[0m\u001b[0;34m''\u001b[0m\u001b[0;34m)\u001b[0m\u001b[0;34m\u001b[0m\u001b[0;34m\u001b[0m\u001b[0m\n",
            "\u001b[0;32m<ipython-input-24-95a367a3e576>\u001b[0m in \u001b[0;36m__str__\u001b[0;34m(self)\u001b[0m\n\u001b[1;32m      6\u001b[0m     \u001b[0;32mdef\u001b[0m \u001b[0m__str__\u001b[0m\u001b[0;34m(\u001b[0m\u001b[0mself\u001b[0m\u001b[0;34m)\u001b[0m\u001b[0;34m:\u001b[0m  \u001b[0;31m#DÉFINITION À COMPLÉTER !\u001b[0m\u001b[0;34m\u001b[0m\u001b[0;34m\u001b[0m\u001b[0m\n\u001b[1;32m      7\u001b[0m         \u001b[0;32mif\u001b[0m \u001b[0mself\u001b[0m\u001b[0;34m.\u001b[0m\u001b[0msuivant\u001b[0m \u001b[0;34m!=\u001b[0m \u001b[0;32mNone\u001b[0m\u001b[0;34m:\u001b[0m\u001b[0;34m\u001b[0m\u001b[0;34m\u001b[0m\u001b[0m\n\u001b[0;32m----> 8\u001b[0;31m             \u001b[0;32mreturn\u001b[0m \u001b[0mstr\u001b[0m\u001b[0;34m(\u001b[0m\u001b[0mself\u001b[0m\u001b[0;34m.\u001b[0m\u001b[0mvaleur\u001b[0m\u001b[0;34m)\u001b[0m\u001b[0;34m+\u001b[0m\u001b[0;34m' '\u001b[0m\u001b[0;34m+\u001b[0m\u001b[0mprint\u001b[0m\u001b[0;34m(\u001b[0m\u001b[0mself\u001b[0m\u001b[0;34m.\u001b[0m\u001b[0msuivant\u001b[0m\u001b[0;34m)\u001b[0m\u001b[0;34m\u001b[0m\u001b[0;34m\u001b[0m\u001b[0m\n\u001b[0m\u001b[1;32m      9\u001b[0m         \u001b[0;32melse\u001b[0m\u001b[0;34m:\u001b[0m\u001b[0;34m\u001b[0m\u001b[0;34m\u001b[0m\u001b[0m\n\u001b[1;32m     10\u001b[0m             \u001b[0;32mreturn\u001b[0m \u001b[0mstr\u001b[0m\u001b[0;34m(\u001b[0m\u001b[0;34m''\u001b[0m\u001b[0;34m)\u001b[0m\u001b[0;34m\u001b[0m\u001b[0;34m\u001b[0m\u001b[0m\n",
            "\u001b[0;31mTypeError\u001b[0m: must be str, not NoneType"
          ]
        }
      ]
    },
    {
      "cell_type": "markdown",
      "metadata": {
        "id": "efRpw9ikcZdN"
      },
      "source": [
        "b) Écrire dans la cellule ci-dessous l'instruction qui permet de tester la méthode `affiche` sur l'objet `m3`. "
      ]
    },
    {
      "cell_type": "code",
      "metadata": {
        "id": "WfGt3cqkc2S2"
      },
      "source": [
        ""
      ],
      "execution_count": null,
      "outputs": []
    },
    {
      "cell_type": "markdown",
      "metadata": {
        "id": "lW2McDLTc2_n"
      },
      "source": [
        "c) ***Pour aller plus loin*** : écrire une méthode **`__str__`** pour la classe `Maillon`."
      ]
    }
  ]
}